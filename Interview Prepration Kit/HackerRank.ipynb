{
 "cells": [
  {
   "cell_type": "code",
   "execution_count": 10,
   "metadata": {},
   "outputs": [
    {
     "name": "stdout",
     "output_type": "stream",
     "text": [
      "UDDDUDUU\n"
     ]
    }
   ],
   "source": []
  },
  {
   "cell_type": "code",
   "execution_count": 2,
   "metadata": {},
   "outputs": [],
   "source": [
    "def jumpigOnClouds(c):\n",
    "    # first we will assign value for U and D\n",
    "   \n",
    "    # we will need to do two traversal\n",
    "    \n",
    "    # traversal 1  one step\n",
    "    s=0\n",
    "    for i in range(len(c)):\n",
    "        \n",
    "        if c[i]==0:\n",
    "            s+=1\n",
    "            \n",
    "    \n",
    "    s=s-1\n",
    "    \n",
    "    # traversal 2 two step\n",
    "    t=0\n",
    "    i=len(c)\n",
    "    for i in range(0,len(c),2):\n",
    "    #while i!=0:\n",
    "        print(i)\n",
    "        if c[i]==0:\n",
    "            t+=1\n",
    "        elif c[i]==1:\n",
    "            t+=1\n",
    "            #i=i-1 # this is not updating the value of i#\n",
    "        if i==len(c)-2 and c[-1]==0:\n",
    "            #print('done')\n",
    "            t+=1\n",
    "        #e=[0,0,1,0,0,1,0]\n",
    "       # e=[0,0,1,0,0,1,0]\n",
    "    t=t-1\n",
    "    if t<s:\n",
    "        #print(s)\n",
    "        return t\n",
    "    else:\n",
    "        \n",
    "        return s\n",
    "        \n",
    "            \n",
    "    \n",
    "            \n",
    "            "
   ]
  },
  {
   "cell_type": "code",
   "execution_count": 45,
   "metadata": {},
   "outputs": [],
   "source": [
    "# as the value of i is not getting updated there for now we will use the while loop\n",
    "def jumpigOnClouds(c):\n",
    "    # first we will assign value for U and D\n",
    "   \n",
    "    # we will need to do two traversal\n",
    "    \n",
    "    # traversal 1  one step\n",
    "    s=0\n",
    "    for i in range(len(c)):\n",
    "        \n",
    "        if c[i]==0:\n",
    "            s+=1\n",
    "            \n",
    "    \n",
    "    s=s-1\n",
    "    \n",
    "    # traversal 2 two step\n",
    "    t=0\n",
    "    i=0\n",
    "    #for i in range(0,len(c),2):\n",
    "    while i<=len(c)-1:\n",
    "    \n",
    "            print(i)\n",
    "       # if i<=len(c):\n",
    "            if c[i]==0:\n",
    "                t+=1\n",
    "            if c[i]==1:\n",
    "                t+=1\n",
    "                i=i-1 # this is not updating the value of i#\n",
    "            if i==len(c)-2 and c[-1]==0:\n",
    "                print('done')\n",
    "                t+=1\n",
    "        #e=[0,0,1,0,0,1,0]\n",
    "       # e=[0,0,1,0,0,1,0]\n",
    "            i=i+2\n",
    "    t=t-1\n",
    "    if t<s:\n",
    "        #print(s)\n",
    "        return t\n",
    "    else:\n",
    "        \n",
    "        return s\n",
    "        "
   ]
  },
  {
   "cell_type": "code",
   "execution_count": 47,
   "metadata": {},
   "outputs": [
    {
     "name": "stdout",
     "output_type": "stream",
     "text": [
      "0\n",
      "2\n",
      "3\n",
      "5\n",
      "6\n"
     ]
    },
    {
     "data": {
      "text/plain": [
       "4"
      ]
     },
     "execution_count": 47,
     "metadata": {},
     "output_type": "execute_result"
    }
   ],
   "source": [
    "#e=[0,0,1,0,0,0,0,1,0,0]\n",
    "#e=[0,0,0,1,0,0]\n",
    "e=[0,0,1,0,0,1,0]\n",
    "jumpigOnClouds(e) "
   ]
  },
  {
   "cell_type": "code",
   "execution_count": 16,
   "metadata": {},
   "outputs": [],
   "source": [
    "import numpy as np\n",
    "import pandas as pd\n",
    "\n",
    "d = {'one': pd.Series([1., 2., 3.], index=['a', 'b', 'c']),\n",
    "     'two': pd.Series([1., 2., 3., 4.], index=['a', 'b', 'c', 'd'])}"
   ]
  },
  {
   "cell_type": "code",
   "execution_count": 33,
   "metadata": {},
   "outputs": [
    {
     "data": {
      "text/html": [
       "<div>\n",
       "<style scoped>\n",
       "    .dataframe tbody tr th:only-of-type {\n",
       "        vertical-align: middle;\n",
       "    }\n",
       "\n",
       "    .dataframe tbody tr th {\n",
       "        vertical-align: top;\n",
       "    }\n",
       "\n",
       "    .dataframe thead th {\n",
       "        text-align: right;\n",
       "    }\n",
       "</style>\n",
       "<table border=\"1\" class=\"dataframe\">\n",
       "  <thead>\n",
       "    <tr style=\"text-align: right;\">\n",
       "      <th></th>\n",
       "      <th>one</th>\n",
       "      <th>two</th>\n",
       "    </tr>\n",
       "  </thead>\n",
       "  <tbody>\n",
       "    <tr>\n",
       "      <th>b</th>\n",
       "      <td>2.0</td>\n",
       "      <td>2.0</td>\n",
       "    </tr>\n",
       "    <tr>\n",
       "      <th>c</th>\n",
       "      <td>3.0</td>\n",
       "      <td>3.0</td>\n",
       "    </tr>\n",
       "    <tr>\n",
       "      <th>d</th>\n",
       "      <td>NaN</td>\n",
       "      <td>4.0</td>\n",
       "    </tr>\n",
       "    <tr>\n",
       "      <th>e</th>\n",
       "      <td>NaN</td>\n",
       "      <td>NaN</td>\n",
       "    </tr>\n",
       "  </tbody>\n",
       "</table>\n",
       "</div>"
      ],
      "text/plain": [
       "   one  two\n",
       "b  2.0  2.0\n",
       "c  3.0  3.0\n",
       "d  NaN  4.0\n",
       "e  NaN  NaN"
      ]
     },
     "execution_count": 33,
     "metadata": {},
     "output_type": "execute_result"
    }
   ],
   "source": [
    "pd.DataFrame(d, index=['b','c','d','e'])\n"
   ]
  },
  {
   "cell_type": "code",
   "execution_count": null,
   "metadata": {},
   "outputs": [],
   "source": []
  }
 ],
 "metadata": {
  "kernelspec": {
   "display_name": "Python 3",
   "language": "python",
   "name": "python3"
  },
  "language_info": {
   "codemirror_mode": {
    "name": "ipython",
    "version": 3
   },
   "file_extension": ".py",
   "mimetype": "text/x-python",
   "name": "python",
   "nbconvert_exporter": "python",
   "pygments_lexer": "ipython3",
   "version": "3.7.1"
  }
 },
 "nbformat": 4,
 "nbformat_minor": 2
}
