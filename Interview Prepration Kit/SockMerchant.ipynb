{
 "cells": [
  {
   "cell_type": "code",
   "execution_count": 55,
   "metadata": {},
   "outputs": [
    {
     "name": "stdout",
     "output_type": "stream",
     "text": [
      "10 20 20 10 10 30 50 10 20\n"
     ]
    }
   ],
   "source": [
    "c=9\n",
    "b=list(map(int,input().split()))"
   ]
  },
  {
   "cell_type": "code",
   "execution_count": 56,
   "metadata": {},
   "outputs": [
    {
     "name": "stdout",
     "output_type": "stream",
     "text": [
      "[10, 20, 20, 10, 10, 30, 50, 10, 20]\n"
     ]
    }
   ],
   "source": [
    "print(b)"
   ]
  },
  {
   "cell_type": "code",
   "execution_count": 71,
   "metadata": {},
   "outputs": [],
   "source": [
    "#interview kit problem no. 1\n",
    "c=9\n",
    "b=[10, 20, 20, 10, 10, 30, 50, 10, 20]\n",
    "\n",
    "\n",
    "\n",
    "def sockMerchant(n,ar):\n",
    "    # first I will pick the first element\n",
    "    #and pop it at the same time\n",
    "    count=0\n",
    "    out=[]\n",
    "    def Remove(a,ar):\n",
    "        ar.remove(a)\n",
    "    #for i in range(len(ar)):\n",
    "    while len(ar)!=0:\n",
    "        a=ar[-1]\n",
    "        ar.remove(a)\n",
    "    #now see if it is still present\n",
    "      \n",
    "   \n",
    "        if a in ar:\n",
    "            count+=1\n",
    "            ar.remove(a)\n",
    "        else:\n",
    "            #print('a')\n",
    "            out.append(a)\n",
    "            #Remove(a,ar)\n",
    "    \n",
    "    return (n-len(out))//2\n",
    "            \n",
    "    \n",
    "        \n",
    "        \n",
    "    \n",
    "    "
   ]
  },
  {
   "cell_type": "code",
   "execution_count": 72,
   "metadata": {},
   "outputs": [
    {
     "name": "stdout",
     "output_type": "stream",
     "text": [
      "a\n",
      "a\n",
      "a\n"
     ]
    },
    {
     "data": {
      "text/plain": [
       "3"
      ]
     },
     "execution_count": 72,
     "metadata": {},
     "output_type": "execute_result"
    }
   ],
   "source": [
    "sockMerchant(c,b)"
   ]
  },
  {
   "cell_type": "code",
   "execution_count": 48,
   "metadata": {},
   "outputs": [
    {
     "name": "stdout",
     "output_type": "stream",
     "text": [
      "1\n",
      "None\n",
      "None\n"
     ]
    }
   ],
   "source": [
    "dic = {\"A\":1, \"B\":2} \n",
    "print(dic.get(\"A\")) \n",
    "print(dic.get(\"C\")) \n",
    "print(dic.get(\"C\")) "
   ]
  },
  {
   "cell_type": "code",
   "execution_count": null,
   "metadata": {},
   "outputs": [],
   "source": []
  }
 ],
 "metadata": {
  "kernelspec": {
   "display_name": "Python 3",
   "language": "python",
   "name": "python3"
  },
  "language_info": {
   "codemirror_mode": {
    "name": "ipython",
    "version": 3
   },
   "file_extension": ".py",
   "mimetype": "text/x-python",
   "name": "python",
   "nbconvert_exporter": "python",
   "pygments_lexer": "ipython3",
   "version": "3.7.1"
  }
 },
 "nbformat": 4,
 "nbformat_minor": 2
}
